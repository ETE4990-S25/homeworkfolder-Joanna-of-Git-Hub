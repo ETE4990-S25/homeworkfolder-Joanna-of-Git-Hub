{
 "cells": [
  {
   "cell_type": "markdown",
   "metadata": {},
   "source": [
    "# Partner Test Code"
   ]
  },
  {
   "cell_type": "code",
   "execution_count": 1,
   "metadata": {},
   "outputs": [],
   "source": [
    "# Testing\n",
    "# SK weather function\n",
    "def weather(condition):\n",
    "    if condition == \"windy\":\n",
    "        print (\"It's windy\")\n",
    "    elif condition == \"cloudy\":\n",
    "        print (\"It's cloudy\")\n",
    "    elif condition == \"rainy\":\n",
    "        print (\"It's raining\")\n",
    "    else:\n",
    "        print (\"Sun is out\")\n",
    "\n",
    "    print (\"Condition\")\n",
    "\n",
    "#SK luxury function\n",
    "def luxury(name, list):\n",
    "    \"\"\"Checks if the brand is in the list.\"\"\"\n",
    "    if name in list:\n",
    "        print(name + \" brand is in the list.\")\n",
    "    else:\n",
    "        print(name + \" brand is NOT in the list.\")"
   ]
  },
  {
   "cell_type": "code",
   "execution_count": 2,
   "metadata": {},
   "outputs": [],
   "source": [
    "import unittest"
   ]
  },
  {
   "cell_type": "code",
   "execution_count": 29,
   "metadata": {},
   "outputs": [],
   "source": [
    "class testWeather(unittest.TestCase):\n",
    "    \n",
    "    def windyReturnsWindy(self):\n",
    "        self.assertEqual(weather(\"windy\"),\"It's windy\")\n",
    "\n",
    "    def notListedConditionReturnsSunny(self):\n",
    "        self.assertEqual(weather(\"sunny\"),\"Sun is out\")"
   ]
  },
  {
   "cell_type": "code",
   "execution_count": 27,
   "metadata": {},
   "outputs": [],
   "source": [
    "class testLuxury(unittest.TestCase):\n",
    "\n",
    "    def in_list(self):\n",
    "        self.testList = luxury(\"placeholder\", [\"Gucci, Prada, Target, ANA\"])\n"
   ]
  },
  {
   "cell_type": "code",
   "execution_count": 28,
   "metadata": {},
   "outputs": [
    {
     "name": "stderr",
     "output_type": "stream",
     "text": [
      ".\n",
      "----------------------------------------------------------------------\n",
      "Ran 1 test in 0.002s\n",
      "\n",
      "OK\n"
     ]
    }
   ],
   "source": [
    "if __name__ == '__main__':\n",
    "    unittest.main(argv=['first-arg-is-ignored'], exit=False)"
   ]
  }
 ],
 "metadata": {
  "kernelspec": {
   "display_name": "base",
   "language": "python",
   "name": "python3"
  },
  "language_info": {
   "codemirror_mode": {
    "name": "ipython",
    "version": 3
   },
   "file_extension": ".py",
   "mimetype": "text/x-python",
   "name": "python",
   "nbconvert_exporter": "python",
   "pygments_lexer": "ipython3",
   "version": "3.12.8"
  }
 },
 "nbformat": 4,
 "nbformat_minor": 2
}
