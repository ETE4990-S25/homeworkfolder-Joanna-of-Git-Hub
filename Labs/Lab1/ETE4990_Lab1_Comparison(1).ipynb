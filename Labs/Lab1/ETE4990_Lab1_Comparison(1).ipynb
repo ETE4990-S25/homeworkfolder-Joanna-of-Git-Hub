{
 "cells": [
  {
   "cell_type": "code",
   "execution_count": 58,
   "id": "85ad4ba9-5906-4c54-8e07-426a999820e9",
   "metadata": {},
   "outputs": [
    {
     "name": "stdout",
     "output_type": "stream",
     "text": [
      "Welcome to 5 Roll where you can win some dough ;)\n"
     ]
    },
    {
     "name": "stdin",
     "output_type": "stream",
     "text": [
      "Press any key to begin 5\n"
     ]
    },
    {
     "name": "stdout",
     "output_type": "stream",
     "text": [
      "5 dice rolls: [3, 2, 1, 2, 5]\n",
      "Total: 13\n",
      "5 dice rolls: [3, 2, 1, 2, 5, 2, 5, 4, 2, 4]\n",
      "Total: 17\n",
      "5 dice rolls: [3, 2, 1, 2, 5, 2, 5, 4, 2, 4, 1, 4, 5, 6, 4]\n",
      "Total: 20\n",
      "5 dice rolls: [3, 2, 1, 2, 5, 2, 5, 4, 2, 4, 1, 4, 5, 6, 4, 2, 1, 2, 3, 3]\n",
      "Total: 11\n",
      "5 dice rolls: [3, 2, 1, 2, 5, 2, 5, 4, 2, 4, 1, 4, 5, 6, 4, 2, 1, 2, 3, 3, 2, 2, 6, 6, 3]\n",
      "Total: 19\n",
      "5 dice rolls: [3, 2, 1, 2, 5, 2, 5, 4, 2, 4, 1, 4, 5, 6, 4, 2, 1, 2, 3, 3, 2, 2, 6, 6, 3, 5, 3, 1, 3, 6]\n",
      "Total: 18\n",
      "5 dice rolls: [3, 2, 1, 2, 5, 2, 5, 4, 2, 4, 1, 4, 5, 6, 4, 2, 1, 2, 3, 3, 2, 2, 6, 6, 3, 5, 3, 1, 3, 6, 3, 5, 3, 1, 2]\n",
      "Total: 14\n",
      "5 dice rolls: [3, 2, 1, 2, 5, 2, 5, 4, 2, 4, 1, 4, 5, 6, 4, 2, 1, 2, 3, 3, 2, 2, 6, 6, 3, 5, 3, 1, 3, 6, 3, 5, 3, 1, 2, 6, 2, 5, 6, 4]\n",
      "Total: 23\n",
      "5 dice rolls: [3, 2, 1, 2, 5, 2, 5, 4, 2, 4, 1, 4, 5, 6, 4, 2, 1, 2, 3, 3, 2, 2, 6, 6, 3, 5, 3, 1, 3, 6, 3, 5, 3, 1, 2, 6, 2, 5, 6, 4, 6, 2, 4, 4, 5]\n",
      "Total: 21\n",
      "5 dice rolls: [3, 2, 1, 2, 5, 2, 5, 4, 2, 4, 1, 4, 5, 6, 4, 2, 1, 2, 3, 3, 2, 2, 6, 6, 3, 5, 3, 1, 3, 6, 3, 5, 3, 1, 2, 6, 2, 5, 6, 4, 6, 2, 4, 4, 5, 1, 6, 4, 5, 2]\n",
      "Total: 18\n",
      "Result list: [13, 17, 20, 11, 19, 18, 14, 23, 21, 18]\n",
      "Grand total (Human): 174\n"
     ]
    }
   ],
   "source": [
    "##### Human Tries\n",
    "print(\"Welcome to 5 Roll where you can win some dough ;)\")\n",
    "input(\"Press any key to begin\")\n",
    "counter=0\n",
    "\n",
    "human_total= [0]*10 #list 1\n",
    "human_rolls= [] #list 2\n",
    "import random\n",
    "\n",
    "#Dice rolls\n",
    "for counter in range (0,10):\n",
    "    for rolls in range(0,5):  #Joanna: I tried to make the rolling of the dice one variable, to make the code shorter. \n",
    "        dice= random.randint (1,6)\n",
    "        human_rolls.append(dice) # just appending the list means that the list prints every single roll it has ever done. I wasn't sure how to fix this. \n",
    "        human_TotalSum += dice\n",
    "    \n",
    "    print(\"5 dice rolls:\",human_rolls)\n",
    "    print(\"Total:\", human_TotalSum)\n",
    "    human_total [counter]= human_TotalSum\n",
    "    human_TotalSum = 0\n",
    "\n",
    "print(\"Result list:\", human_total)\n",
    "total_of_all_tries= sum(human_total)\n",
    "print(\"Grand total (Human):\", total_of_all_tries)"
   ]
  },
  {
   "cell_type": "code",
   "execution_count": 48,
   "id": "c4066e5e-5d3d-454b-93b2-234083fdc466",
   "metadata": {},
   "outputs": [
    {
     "name": "stdout",
     "output_type": "stream",
     "text": [
      "5 dice rolls: [5, 2, 1, 6, 4]\n",
      "Total: 18\n",
      "5 dice rolls: [5, 2, 1, 6, 4, 2, 6, 3, 5, 1]\n",
      "Total: 17\n",
      "5 dice rolls: [5, 2, 1, 6, 4, 2, 6, 3, 5, 1, 4, 2, 4, 1, 6]\n",
      "Total: 17\n",
      "5 dice rolls: [5, 2, 1, 6, 4, 2, 6, 3, 5, 1, 4, 2, 4, 1, 6, 1, 5, 1, 5, 2]\n",
      "Total: 14\n",
      "5 dice rolls: [5, 2, 1, 6, 4, 2, 6, 3, 5, 1, 4, 2, 4, 1, 6, 1, 5, 1, 5, 2, 5, 6, 1, 6, 6]\n",
      "Total: 24\n",
      "5 dice rolls: [5, 2, 1, 6, 4, 2, 6, 3, 5, 1, 4, 2, 4, 1, 6, 1, 5, 1, 5, 2, 5, 6, 1, 6, 6, 6, 5, 2, 1, 5]\n",
      "Total: 19\n",
      "5 dice rolls: [5, 2, 1, 6, 4, 2, 6, 3, 5, 1, 4, 2, 4, 1, 6, 1, 5, 1, 5, 2, 5, 6, 1, 6, 6, 6, 5, 2, 1, 5, 3, 6, 1, 5, 6]\n",
      "Total: 21\n",
      "5 dice rolls: [5, 2, 1, 6, 4, 2, 6, 3, 5, 1, 4, 2, 4, 1, 6, 1, 5, 1, 5, 2, 5, 6, 1, 6, 6, 6, 5, 2, 1, 5, 3, 6, 1, 5, 6, 5, 5, 4, 3, 3]\n",
      "Total: 20\n",
      "5 dice rolls: [5, 2, 1, 6, 4, 2, 6, 3, 5, 1, 4, 2, 4, 1, 6, 1, 5, 1, 5, 2, 5, 6, 1, 6, 6, 6, 5, 2, 1, 5, 3, 6, 1, 5, 6, 5, 5, 4, 3, 3, 1, 6, 6, 2, 4]\n",
      "Total: 19\n",
      "5 dice rolls: [5, 2, 1, 6, 4, 2, 6, 3, 5, 1, 4, 2, 4, 1, 6, 1, 5, 1, 5, 2, 5, 6, 1, 6, 6, 6, 5, 2, 1, 5, 3, 6, 1, 5, 6, 5, 5, 4, 3, 3, 1, 6, 6, 2, 4, 2, 6, 4, 3, 1]\n",
      "Total: 16\n",
      "Result list: [18, 17, 17, 14, 24, 19, 21, 20, 19, 16]\n",
      "Grand total (Computer): 185\n"
     ]
    }
   ],
   "source": [
    "#Computer tries\n",
    "counter=0\n",
    "computer_total= [0]*10 # list 1a \n",
    "computer_rolls= [] #list 2a\n",
    "computer_TotalSum=0\n",
    "import random\n",
    "for counter in range (0,10):\n",
    "    for rolls in range(0,5):  #Joanna: I tried to make the rolling of the dice one variable here as well.  \n",
    "        dice= random.randint (1,6) \n",
    "        computer_rolls.append(dice) #same thing happens here as above. It may b\n",
    "        computer_TotalSum += dice\n",
    "    \n",
    "    print(\"5 dice rolls:\",computer_rolls)\n",
    "    print(\"Total:\", computer_TotalSum)\n",
    "    computer_total [counter]= computer_TotalSum\n",
    "    \n",
    "    #clearing list for the next round. This is so that the printed list after every round is only five rolls long.\n",
    "    computer_TotalSum = 0\n",
    "    \n",
    "print(\"Result list:\", computer_total)\n",
    "total_for_all_tries= sum(computer_total)\n",
    "print(\"Grand total (Computer):\", total_for_all_tries)"
   ]
  },
  {
   "cell_type": "code",
   "execution_count": 60,
   "id": "22b73e7f-9bb0-44b8-a9ac-6da81a988f77",
   "metadata": {},
   "outputs": [
    {
     "name": "stdout",
     "output_type": "stream",
     "text": [
      "Congratulations! Computer wins $0!!\n"
     ]
    }
   ],
   "source": [
    "#Let's announce the winner!\n",
    "human_grand_total= sum(human_total) #had to learn this online as well, finally understood the purpose of list and how they are useful. \n",
    "computer_grand_total= sum(computer_total)\n",
    "if human_grand_total!= computer_grand_total:\n",
    "    if human_grand_total>computer_grand_total:\n",
    "        print (\"Congratulations! Human wins $100!!\")\n",
    "    else:\n",
    "        print(\"Congratulations! Computer wins $0!!\")        \n",
    "else:\n",
    "    print(\"A tie in scores!\")"
   ]
  },
  {
   "cell_type": "code",
   "execution_count": 54,
   "id": "0d17d9e9-1915-4b96-8069-6376c15835d0",
   "metadata": {},
   "outputs": [
    {
     "name": "stdout",
     "output_type": "stream",
     "text": [
      "No. of 1s rolled by human: 9\n",
      "No. of 6s rolled by human: 9\n",
      "No. of 1s rolled by computer: 10\n",
      "No. of 6s rolled by computer: 12\n"
     ]
    }
   ],
   "source": [
    "#Game Statistics for how many times the human and the computer got 1s and 6s. \n",
    "human_ones= human_rolls.count(1) #learned about .count function online as well.\n",
    "human_sixes= human_rolls.count(6)\n",
    "print(\"No. of 1s rolled by human:\", human_ones)\n",
    "print(\"No. of 6s rolled by human:\", human_sixes)\n",
    "computer_ones= computer_rolls.count(1)\n",
    "computer_sixes= computer_rolls.count(6)\n",
    "print(\"No. of 1s rolled by computer:\", computer_ones)\n",
    "print(\"No. of 6s rolled by computer:\", computer_sixes)"
   ]
  }
 ],
 "metadata": {
  "kernelspec": {
   "display_name": "Python 3 (ipykernel)",
   "language": "python",
   "name": "python3"
  },
  "language_info": {
   "codemirror_mode": {
    "name": "ipython",
    "version": 3
   },
   "file_extension": ".py",
   "mimetype": "text/x-python",
   "name": "python",
   "nbconvert_exporter": "python",
   "pygments_lexer": "ipython3",
   "version": "3.13.1"
  }
 },
 "nbformat": 4,
 "nbformat_minor": 5
}
