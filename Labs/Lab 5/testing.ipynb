{
 "cells": [
  {
   "cell_type": "code",
   "execution_count": 24,
   "metadata": {},
   "outputs": [],
   "source": [
    "#1\n",
    "class Calculator(object):\n",
    "    def add(self,condition):\n",
    "        if condition == \"windy\":\n",
    "            return \"It's windy\"\n",
    "        elif condition == \"cloudy\":\n",
    "            print (\"It's cloudy\")\n",
    "        elif condition == \"rainy\":\n",
    "            print (\"It's raining\")\n",
    "        else:\n",
    "            print (\"Sun is out\")\n",
    "\n",
    "        print (\"Condition\")"
   ]
  },
  {
   "cell_type": "code",
   "execution_count": 2,
   "metadata": {},
   "outputs": [],
   "source": [
    "import unittest"
   ]
  },
  {
   "cell_type": "code",
   "execution_count": 26,
   "metadata": {},
   "outputs": [
    {
     "name": "stderr",
     "output_type": "stream",
     "text": [
      ".FF\n",
      "======================================================================\n",
      "FAIL: test_add_method_returns_string (__main__.TestCalculate.test_add_method_returns_string)\n",
      "----------------------------------------------------------------------\n",
      "Traceback (most recent call last):\n",
      "  File \"C:\\Users\\joann\\AppData\\Local\\Temp\\ipykernel_30012\\3767575811.py\", line 9, in test_add_method_returns_string\n",
      "    self.assertEqual(\"windy\", Calculator().add(\"windy\"))\n",
      "AssertionError: 'windy' != \"It's windy\"\n",
      "- windy\n",
      "+ It's windy\n",
      "\n",
      "\n",
      "======================================================================\n",
      "FAIL: test_notListedCondition_ReturnsSunny (__main__.TestCalculate.test_notListedCondition_ReturnsSunny)\n",
      "----------------------------------------------------------------------\n",
      "Traceback (most recent call last):\n",
      "  File \"C:\\Users\\joann\\AppData\\Local\\Temp\\ipykernel_30012\\3767575811.py\", line 12, in test_notListedCondition_ReturnsSunny\n",
      "    self.assertNotEqual(\"Sun is out\",\"Sun is out\")\n",
      "AssertionError: 'Sun is out' == 'Sun is out'\n",
      "\n",
      "----------------------------------------------------------------------\n",
      "Ran 3 tests in 0.005s\n",
      "\n",
      "FAILED (failures=2)\n"
     ]
    }
   ],
   "source": [
    "import unittest\n",
    "\n",
    "class TestCalculate(unittest.TestCase):\n",
    "    \n",
    "    def test_add_method_returns_correct_result(self): #1\n",
    "         self.assertEqual(\"It's windy\", Calculator().add(\"windy\"))\n",
    "\n",
    "    def test_add_method_returns_string(self):#3\n",
    "       self.assertEqual(\"windy\", Calculator().add(\"windy\"))\n",
    "\n",
    "    def test_notListedCondition_ReturnsSunny(self):\n",
    "        self.assertNotEqual(\"Sun is out\",\"Sun is out\")\n",
    "\n",
    "#    def test_add_method_unit_failure(self): #2\n",
    "#        self.assertEqual(5, Calculator().add(2,2))\n",
    "\n",
    "if __name__ == '__main__':\n",
    "    unittest.main(argv=['first-arg-is-ignored'], exit=False)"
   ]
  }
 ],
 "metadata": {
  "kernelspec": {
   "display_name": "base",
   "language": "python",
   "name": "python3"
  },
  "language_info": {
   "codemirror_mode": {
    "name": "ipython",
    "version": 3
   },
   "file_extension": ".py",
   "mimetype": "text/x-python",
   "name": "python",
   "nbconvert_exporter": "python",
   "pygments_lexer": "ipython3",
   "version": "3.12.8"
  }
 },
 "nbformat": 4,
 "nbformat_minor": 2
}
