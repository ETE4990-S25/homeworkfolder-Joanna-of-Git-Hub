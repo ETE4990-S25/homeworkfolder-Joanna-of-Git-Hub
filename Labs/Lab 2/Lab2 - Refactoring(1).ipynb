{
 "cells": [
  {
   "cell_type": "markdown",
   "id": "0209af47-6b8d-4f34-8292-aa79deef5088",
   "metadata": {},
   "source": [
    "# Lab 2 - Refactoring\n",
    "## Refactoring is:\n",
    "\n",
    "Refactoring is the process of restructuring or rewriting code, while not changing its original functionality. The goal of refactoring is to improve internal code by making many small changes without altering the code's external behavior. \n",
    "\n",
    "It is easier said than done. "
   ]
  },
  {
   "cell_type": "markdown",
   "id": "f470981d-7433-42f0-a742-a9ddeae57056",
   "metadata": {},
   "source": [
    "### Part 1 - Warm-up\n",
    "\n",
    "You will refactor the following code:"
   ]
  },
  {
   "cell_type": "code",
   "execution_count": 16,
   "id": "b817e22e-46ae-4dfe-9a38-c3d3e818168b",
   "metadata": {},
   "outputs": [
    {
     "ename": "ValueError",
     "evalue": "invalid literal for int() with base 10: ''",
     "output_type": "error",
     "traceback": [
      "\u001b[1;31m---------------------------------------------------------------------------\u001b[0m",
      "\u001b[1;31mValueError\u001b[0m                                Traceback (most recent call last)",
      "Cell \u001b[1;32mIn[16], line 5\u001b[0m\n\u001b[0;32m      3\u001b[0m x \u001b[38;5;241m=\u001b[39m \u001b[38;5;241m5\u001b[39m\n\u001b[0;32m      4\u001b[0m value \u001b[38;5;241m=\u001b[39m \u001b[38;5;28minput\u001b[39m(\u001b[38;5;124m\"\u001b[39m\u001b[38;5;124mEnter a number: \u001b[39m\u001b[38;5;124m\"\u001b[39m)\n\u001b[1;32m----> 5\u001b[0m y \u001b[38;5;241m=\u001b[39m \u001b[38;5;28mint\u001b[39m(value)\n\u001b[0;32m      6\u001b[0m \u001b[38;5;28;01mif\u001b[39;00m x \u001b[38;5;241m<\u001b[39m y:\n\u001b[0;32m      7\u001b[0m     \u001b[38;5;28mprint\u001b[39m(\u001b[38;5;124mf\u001b[39m\u001b[38;5;124m\"\u001b[39m\u001b[38;5;132;01m{\u001b[39;00mx\u001b[38;5;132;01m}\u001b[39;00m\u001b[38;5;124m is less than \u001b[39m\u001b[38;5;132;01m{\u001b[39;00my\u001b[38;5;132;01m}\u001b[39;00m\u001b[38;5;124m\"\u001b[39m)\n",
      "\u001b[1;31mValueError\u001b[0m: invalid literal for int() with base 10: ''"
     ]
    }
   ],
   "source": [
    "#stolen from https://realpython.com/python-refactoring/\n",
    "#yes you can go there and look at what they did no do it yourself\n",
    "x = 5\n",
    "value = input(\"Enter a number: \")\n",
    "y = int(value)\n",
    "if x < y:\n",
    "    print(f\"{x} is less than {y}\")\n",
    "elif x == y:\n",
    "    print(f\"{x} is equal to {y}\")\n",
    "else:\n",
    "    print(f\"{x} is more than {y}\")"
   ]
  },
  {
   "cell_type": "code",
   "execution_count": null,
   "id": "033cf53c-96bc-4174-813d-09ad088787d6",
   "metadata": {},
   "outputs": [],
   "source": [
    "# joanna Escobar 1/31/2025\n",
    "static_Value = 5\n",
    "value = input(\"Enter a number: \")\n",
    "guess = int(value)\n",
    "if static_Value < guess:\n",
    "    print(f\"{static_Value} is less than {guess}\")\n",
    "elif static_Value == guess:\n",
    "    print(f\"{static_Value} is equal to {guess}\")\n",
    "else:\n",
    "    print(f\"{static_Value} is more than {guess}\")\n",
    "print(\"Value: \", static_Value)\n",
    "print(\"Your guess: \", guess)\n"
   ]
  },
  {
   "cell_type": "markdown",
   "id": "bb9edc37-9bd7-4b4a-8ec1-d1465d85be37",
   "metadata": {},
   "source": [
    "## Part 2\n",
    "Refactor the following"
   ]
  },
  {
   "cell_type": "code",
   "execution_count": null,
   "id": "733c4d16-c02c-4058-9cb6-4b751c86dc93",
   "metadata": {},
   "outputs": [],
   "source": [
    "def a(x, y):\n",
    "    if x == \"wizard\":\n",
    "        if y == \"fireball\":\n",
    "            return \"casts fireball\"\n",
    "        elif y == \"lightning\":\n",
    "            return \"casts lightning\"\n",
    "        else:\n",
    "            return \"does nothing\"\n",
    "    elif x == \"warrior\":\n",
    "        if y == \"slash\":\n",
    "            return \"slashes with sword\"\n",
    "        elif y == \"bash\":\n",
    "            return \"bashes with shield\"\n",
    "        else:\n",
    "            return \"does nothing\"\n",
    "    else:\n",
    "        return \"does nothing\"\n",
    "\n",
    "def b(z):\n",
    "    for i in range(10):\n",
    "        if z == \"dragon\":\n",
    "            return \"fights dragon\"\n",
    "        elif z == \"goblin\":\n",
    "            return \"fights goblin\"\n",
    "        elif z == \"orc\":\n",
    "            return \"fights orc\"\n",
    "        else:\n",
    "            return \"does nothing\"\n",
    "\n",
    "def c():\n",
    "    for i in range(5):\n",
    "        print(\"exploring dungeon\")\n",
    "    for j in range(5):\n",
    "        print(\"finding treasure\")\n",
    "\n",
    "def main():\n",
    "    print(a(\"wizard\", \"fireball\"))\n",
    "    print(a(\"warrior\", \"slash\"))\n",
    "    print(b(\"dragon\"))\n",
    "    c()\n"
   ]
  },
  {
   "cell_type": "code",
   "execution_count": null,
   "metadata": {},
   "outputs": [],
   "source": [
    "# Joanna Escobar 1/31/2025\n",
    "def playerActions(inPlayerTypes, inPlayerMoves):\n",
    "    wizardMoves = [\"fireball\",\"lightning\"]\n",
    "    warriorMoves = [\"slash\",\"bash\"]\n",
    "\n",
    "    if inPlayerMoves in wizardMoves:\n",
    "        return \"casts \" + inPlayerMoves\n",
    "    elif inPlayerMoves in warriorMoves:\n",
    "        return \"attacks with \" + inPlayerMoves\n",
    "    else:\n",
    "        return \"does nothing\"\n",
    "\n",
    "def Enemies(inEnemyType):\n",
    "    enemyType = [\"dragon\",\"goblin\",\"orc\"]\n",
    "    for i in range(10):\n",
    "        if inEnemyType in enemyType:\n",
    "            return \"fights \" + inEnemyType\n",
    "        else:\n",
    "            return \"does nothing\"\n",
    "\n",
    "def DungeonTreasure():\n",
    "    for DungeonCrawl in range(5):\n",
    "        print(\"exploring dungeon\")\n",
    "    if DungeonCrawl == 5:\n",
    "        print(\"finding treasure\")\n",
    "\n",
    "def main():\n",
    "    print(playerActions(\"wizard\", \"fireball\"))\n",
    "    print(playerActions(\"warrior\", \"slash\"))\n",
    "    print(Enemies(\"dragon\"))\n",
    "    DungeonTreasure()\n"
   ]
  },
  {
   "cell_type": "markdown",
   "metadata": {},
   "source": [
    "# Part 3\n",
    "Refactor your partners lab 1 code so it is a clean function. Look at part 4 and see how you can adapt the code to fit project one. "
   ]
  },
  {
   "cell_type": "code",
   "execution_count": 37,
   "metadata": {},
   "outputs": [],
   "source": [
    "# Joanna Escobar version 1\n",
    "#import random\n",
    "\n",
    "#def rollDice(): #inValuesRolled, TotalAmount\n",
    "    #finalStats = {'Rolls':'five', 'Total':'amount'}\n",
    "    #valuesRolled=[]\n",
    "    #TotalSum = 0\n",
    "\n",
    "    #for roll in range(0,5):\n",
    "        #dice = random.randint (1,6)\n",
    "        #valuesRolled.append(dice) # appending the list means that the list prints every single roll it has ever done.\n",
    "        #TotalSum += dice\n",
    "\n",
    "    #print(\"5 dice rolls:\",human_rolls)\n",
    "    #print(\"Total:\", human_TotalSum)\n",
    "    #human_total [counter]= human_TotalSum\n",
    "    #human_TotalSum = 0\n",
    "\n",
    "   # finalStats['Rolls'] = valuesRolled\n",
    "   # finalStats['Total'] = TotalSum\n",
    "   # return finalStats\n"
   ]
  },
  {
   "cell_type": "code",
   "execution_count": 49,
   "id": "98c193fd",
   "metadata": {},
   "outputs": [],
   "source": [
    "# Joanna Escobar dice rolling function\n",
    "import random\n",
    "\n",
    "def diceRolls():\n",
    "    rolls_total= [0]*10 #list 1\n",
    "    rolls_rounds= [] #list 2\n",
    "    TotalSum = 0\n",
    "\n",
    "    #Dice rolls\n",
    "    for counter in range (0,10):\n",
    "        for rolls in range(0,5): \n",
    "            dice= random.randint (1,6)\n",
    "            rolls_rounds.append(dice) \n",
    "            TotalSum += dice\n",
    "        \n",
    "        print(\"5 dice rolls:\",rolls_rounds)\n",
    "        print(\"Total:\", TotalSum)\n",
    "        rolls_total [counter]= TotalSum\n",
    "        TotalSum = 0\n",
    "        rolls_rounds= []\n",
    "\n",
    "    print(\"Result list:\", rolls_total)\n",
    "    total_of_all_tries= sum(rolls_total)\n",
    "    print(\"Grand total:\", total_of_all_tries)\n",
    "    return total_of_all_tries\n"
   ]
  },
  {
   "cell_type": "code",
   "execution_count": 51,
   "id": "85b00ce7",
   "metadata": {},
   "outputs": [
    {
     "name": "stdout",
     "output_type": "stream",
     "text": [
      "Welcome to 5 Roll where you can win some dough ;)\n",
      "5 dice rolls: [5, 2, 2, 1, 6]\n",
      "Total: 16\n",
      "5 dice rolls: [1, 1, 3, 2, 1]\n",
      "Total: 8\n",
      "5 dice rolls: [2, 3, 5, 6, 6]\n",
      "Total: 22\n",
      "5 dice rolls: [5, 5, 3, 5, 6]\n",
      "Total: 24\n",
      "5 dice rolls: [6, 2, 2, 1, 3]\n",
      "Total: 14\n",
      "5 dice rolls: [4, 2, 3, 4, 1]\n",
      "Total: 14\n",
      "5 dice rolls: [5, 6, 6, 3, 3]\n",
      "Total: 23\n",
      "5 dice rolls: [5, 3, 1, 4, 3]\n",
      "Total: 16\n",
      "5 dice rolls: [6, 4, 4, 5, 6]\n",
      "Total: 25\n",
      "5 dice rolls: [6, 3, 1, 5, 4]\n",
      "Total: 19\n",
      "Result list: [16, 8, 22, 24, 14, 14, 23, 16, 25, 19]\n",
      "Grand total: 181\n",
      "5 dice rolls: [4, 5, 6, 3, 2]\n",
      "Total: 20\n",
      "5 dice rolls: [6, 6, 2, 3, 6]\n",
      "Total: 23\n",
      "5 dice rolls: [2, 3, 2, 2, 4]\n",
      "Total: 13\n",
      "5 dice rolls: [4, 1, 1, 3, 6]\n",
      "Total: 15\n",
      "5 dice rolls: [3, 3, 1, 5, 3]\n",
      "Total: 15\n",
      "5 dice rolls: [3, 1, 5, 6, 6]\n",
      "Total: 21\n",
      "5 dice rolls: [4, 4, 6, 5, 1]\n",
      "Total: 20\n",
      "5 dice rolls: [6, 1, 3, 2, 4]\n",
      "Total: 16\n",
      "5 dice rolls: [4, 2, 5, 6, 1]\n",
      "Total: 18\n",
      "5 dice rolls: [5, 1, 2, 4, 2]\n",
      "Total: 14\n",
      "Result list: [20, 23, 13, 15, 15, 21, 20, 16, 18, 14]\n",
      "Grand total: 175\n"
     ]
    }
   ],
   "source": [
    "#Gameplay\n",
    "#setup\n",
    "print(\"Welcome to 5 Roll where you can win some dough ;)\")\n",
    "input(\"Press any key to begin\")\n",
    "human_roll = diceRolls()\n",
    "computer_roll = diceRolls()"
   ]
  },
  {
   "cell_type": "code",
   "execution_count": 38,
   "id": "32471786",
   "metadata": {},
   "outputs": [
    {
     "name": "stdout",
     "output_type": "stream",
     "text": [
      "{'Rolls': [2, 3, 1, 6, 2, 2, 2, 3, 5, 3], 'Total': 29}\n"
     ]
    }
   ],
   "source": []
  },
  {
   "cell_type": "code",
   "execution_count": null,
   "id": "b336a8db",
   "metadata": {},
   "outputs": [],
   "source": [
    "\n",
    "# Human Tries\n",
    "print(\"Welcome to 5 Roll where you can win some dough ;)\")\n",
    "input(\"Press any key to begin\")\n",
    "counter=0\n",
    "\n",
    "human_total= [0]*10 #list 1\n",
    "human_rolls= [] #list 2"
   ]
  },
  {
   "cell_type": "markdown",
   "id": "e589c6c8-f937-47e0-8db2-a37e03c12336",
   "metadata": {},
   "source": [
    "## Part 4 - take home but start in class                  \n",
    "# Project #1  introduction \n",
    "\n",
    "\n",
    "Your task is to develop a text-based video game focusing on the player profile, inventory system, and combat mechanics. Create a realistic player character with at least 10 inventory items, each with a description and an associated trait. Enjoy the process!\n",
    "\n",
    "Incorporate all the concepts we've covered so far, including files (read and write), JSON, operators, lists, optional tuples, functions, modules, and classes.\n",
    "\n",
    "### Requirements:\n",
    "- **Player Type Selection**: Allow players to choose their character type. Set attributes based on the choice (e.g., wizard: magic = 10, knight: magic = 0).\n",
    "- **Inventory Display**: Implement a function to show the player's inventory.\n",
    "- **Item Details**: Write a function to provide detailed information about an inventory item (e.g., Knife: \"forged in the depths of Polymar\", +5 magic, edged weapon, one-handed).\n",
    "  - Bonus: Calculate bonuses when equipping and unequipping items.\n",
    "- **Inventory Management**: Create functions to add and remove items from the inventory.\n",
    "- **Persistence**: Ensure the game can save and reload the player's character using files.\n",
    "\n",
    "Focus on building the player and inventory system for your text-based adventure game (similar to Zork). The map and gameplay can be developed later.\n",
    "\n",
    "### Game Features:\n",
    "- **Player Profile**: Include player stats.\n",
    "- **Inventory System**: Implement a bag to hold items.\n",
    "- **Items**: Include 10 items, each with a description and trait (e.g., +5 magic).\n",
    "- **Concepts**: Utilize functions, loops, arrays, classes, and constants. You may also use files and structs if desired.\n",
    "- **Player Type Selection**: Allow players to choose their character type and set attributes accordingly (e.g., wizard: magic = 10, knight: magic = 0).\n",
    "- **Inventory Display**: Implement a function to show the player's inventory.\n",
    "- **Code Quality**: Keep your code clean and consider various player needs, as this project will be handed off to a partner for further development.\n",
    "\n"
   ]
  },
  {
   "cell_type": "markdown",
   "id": "1fe3ba5e-722b-4ed8-b36f-c9ebd718bd7d",
   "metadata": {},
   "source": [
    "# Project 1 - Part 1\n",
    "Spend time planning out your code. You may work with your partner to plan out your code. How would you like your game to play? \n",
    "\n",
    "Use a UML planner like: \n",
    "\n",
    "\n",
    "https://miro.com/\n"
   ]
  },
  {
   "cell_type": "code",
   "execution_count": null,
   "id": "3bdce5be-0a31-4cf9-ba17-0f5be8cefc33",
   "metadata": {},
   "outputs": [],
   "source": []
  }
 ],
 "metadata": {
  "kernelspec": {
   "display_name": "base",
   "language": "python",
   "name": "python3"
  },
  "language_info": {
   "codemirror_mode": {
    "name": "ipython",
    "version": 3
   },
   "file_extension": ".py",
   "mimetype": "text/x-python",
   "name": "python",
   "nbconvert_exporter": "python",
   "pygments_lexer": "ipython3",
   "version": "3.12.8"
  }
 },
 "nbformat": 4,
 "nbformat_minor": 5
}
