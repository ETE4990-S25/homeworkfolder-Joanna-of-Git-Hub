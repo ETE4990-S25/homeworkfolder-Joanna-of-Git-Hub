{
 "cells": [
  {
   "cell_type": "markdown",
   "id": "ac613382-acda-4f55-909d-5deb9a1afbda",
   "metadata": {},
   "source": [
    "# Lists\n",
    "\n",
    "## Background\n",
    "Lists are one of the most commonly used data structures in Python and are very similar to arrays from other programming languages. A list can store many items or values inside of one overall object or structure, unlike a variable which can only store one item or value inside one object. \n",
    "\n",
    "The items in a list can be accessed by using what is called an “index” value, which simply refers to the position of a certain item inside of a list, as lists are ordered from item 0 to the number of elements - 1. Therefore a list with 5 elements will have index positions 0 through 4. \n",
    "\n",
    "Any data can be stored inside a list, numbers, strings, or objects, but it is common practice to only have one data type per list. Therefore if my list has integers, it would ONLY have integers, not strings, doubles, objects, etc."
   ]
  },
  {
   "cell_type": "markdown",
   "id": "c0e77989-3dbb-4106-b49b-f8dfa5bfeab5",
   "metadata": {},
   "source": [
    "## Mini-project - Guessing game\n",
    "Create a number guessing game and set a secret number at the beginning of the program. \n",
    "The program will ask the player to enter a number to guess what the number is, then it’ll inform the player if they got it right or wrong."
   ]
  },
  {
   "cell_type": "code",
   "execution_count": 99,
   "id": "4ff13200-3b6b-4173-8416-fa65d2234d9e",
   "metadata": {},
   "outputs": [
    {
     "name": "stdout",
     "output_type": "stream",
     "text": [
      "Make a guess 1\n"
     ]
    },
    {
     "name": "stdout",
     "output_type": "stream",
     "text": [
      "wow you are bad at this is this your first time?\n"
     ]
    }
   ],
   "source": [
    "secretNumber=1\n",
    "guess = input(\"Make a guess\")\n",
    "if guess == secretNumber:\n",
    "    print(\"You are so cool\")\n",
    "else:\n",
    "    print(\"wow you are bad at this is this your first time?\")"
   ]
  },
  {
   "cell_type": "markdown",
   "id": "4584cbfd-289d-4f0d-a899-06d90d69e3fe",
   "metadata": {},
   "source": [
    "## Mini-Project - Dice Roll\n",
    "\n",
    "Part 1:\n",
    "Create a random number generator using dice. \n",
    "You must create at least 5 dice\n",
    "The game must use conditionals (If, Else, Elif)\n",
    "The game must use nested conditionals (if 0=0:if 1=1: do something)\n",
    "\n",
    "What lists should we create for the project?\n",
    "How many loops do we need?\n",
    "\n",
    "Part 2:\n",
    "Create a list to store your gameplay. \n",
    "Create at least 2 lists to store your game statistics.\n",
    "\n",
    "Part 3:\n",
    "At the end of the output your gameplay statistics\n",
    "\n",
    "Part 4:\n",
    "Exchange code with your partner and begin adding comments on improvements (save your original version)\n",
    "\n",
    "Part 5:\n",
    "Return the code and create a comparison \n",
    "\n",
    "Part 6:\n",
    "Upload the code and comparison it to Canvas. "
   ]
  },
  {
   "cell_type": "code",
   "execution_count": 102,
   "id": "e65ec0ae-1f51-4b75-b634-418919685c16",
   "metadata": {},
   "outputs": [],
   "source": [
    "import random"
   ]
  },
  {
   "cell_type": "code",
   "execution_count": 142,
   "id": "28d9a971-ce7c-41b6-a2d4-fbbe229eef25",
   "metadata": {
    "scrolled": true
   },
   "outputs": [
    {
     "name": "stdout",
     "output_type": "stream",
     "text": [
      "Random Number Generator\n",
      "Welcome! You have chosen to play a dice game! I will roll 5 dice, and you will guess the total!\n",
      "If you get within one number of the total, you win! If not, I win!\n",
      "\n",
      "Guess a number between 6 and 30!\n",
      "Please enter your guess... \n"
     ]
    },
    {
     "name": "stdout",
     "output_type": "stream",
     "text": [
      " 7\n"
     ]
    },
    {
     "name": "stdout",
     "output_type": "stream",
     "text": [
      "Not quite. I won!\n",
      "Your guess:  7\n",
      "Dice Total:  15\n",
      "Please enter your guess... \n"
     ]
    },
    {
     "name": "stdout",
     "output_type": "stream",
     "text": [
      " 8\n"
     ]
    },
    {
     "name": "stdout",
     "output_type": "stream",
     "text": [
      "Not quite. I won!\n",
      "Your guess:  8\n",
      "Dice Total:  20\n",
      "Please enter your guess... \n"
     ]
    },
    {
     "name": "stdout",
     "output_type": "stream",
     "text": [
      " 9\n"
     ]
    },
    {
     "name": "stdout",
     "output_type": "stream",
     "text": [
      "Not quite. I won!\n",
      "Your guess:  9\n",
      "Dice Total:  14\n",
      "Please enter your guess... \n"
     ]
    },
    {
     "name": "stdout",
     "output_type": "stream",
     "text": [
      " 10\n"
     ]
    },
    {
     "name": "stdout",
     "output_type": "stream",
     "text": [
      "Not quite. I won!\n",
      "Your guess:  10\n",
      "Dice Total:  15\n",
      "Please enter your guess... \n"
     ]
    },
    {
     "name": "stdout",
     "output_type": "stream",
     "text": [
      " 11\n"
     ]
    },
    {
     "name": "stdout",
     "output_type": "stream",
     "text": [
      "Exactly right! You won! Well done!\n",
      "Your guess:  11\n",
      "Dice Total:  11\n",
      "Scoreboard: \n",
      "Your Guesses:  [7, 8, 9, 10, 11]\n",
      "Your Wins (by round):  [0, 0, 0, 0, 1]\n",
      "My Wins (by round):  [1, 1, 1, 1, 0]\n"
     ]
    }
   ],
   "source": [
    "#Joanna Escobar 1/24/2025\n",
    "\n",
    "#title and instructions\n",
    "print(\"Random Number Generator\")\n",
    "print(\"Welcome! You have chosen to play a dice game! I will roll 5 dice, and you will guess the total!\")\n",
    "print(\"If you get within one number of the total, you win! If not, I win!\")\n",
    "print()\n",
    "print(\"Guess a number between 6 and 30!\")\n",
    "\n",
    "counter = 0\n",
    "#Lists\n",
    "User_Guesses = []\n",
    "User_Wins = []\n",
    "Computer_Wins = []\n",
    "\n",
    "#for loop structure taken from GeeksforGeeks. The internal contents are my own. \n",
    "for counter in range(0,5):\n",
    "    #dice roll\n",
    "    dice_1 = random.randint(1,6)\n",
    "    dice_2 = random.randint(1,6)\n",
    "    dice_3 = random.randint(1,6)\n",
    "    dice_4 = random.randint(1,6)\n",
    "    dice_5 = random.randint(1,6)\n",
    "    #add dice roll\n",
    "    dice_Total = dice_1+dice_2+dice_3+dice_4+dice_5\n",
    "    \n",
    "    #checking dice\n",
    "    #print(dice_1,\" \",dice_2,\" \",dice_3,\" \",dice_4,\" \",dice_5,\" \", \"Total:\",dice_Total)\n",
    "    \n",
    "    #Inputting information\n",
    "    print(\"Please enter your guess... \")\n",
    "    user_Input = int(input())\n",
    "    \n",
    "    #Checking the Results/Playing the Game\n",
    "    if user_Input > 30 or user_Input < 5:\n",
    "        print(\"Whoops! Not in range! Please guess again.\")\n",
    "        print(\"Please enter your guess... \")\n",
    "        user_Input = int(input())\n",
    "    elif user_Input == dice_Total:\n",
    "        print(\"Exactly right! You won! Well done!\")\n",
    "        \n",
    "        User_Wins.append(1)\n",
    "        Computer_Wins.append(0)\n",
    "    else:\n",
    "        one_Positive = user_Input +1\n",
    "        one_Negative = user_Input -1\n",
    "        if one_Positive == dice_Total or one_Negative == dice_Total:\n",
    "            print(\"You won! Off by one!\")\n",
    "            \n",
    "            User_Wins.append(1)\n",
    "            Computer_Wins.append(0)\n",
    "        else:\n",
    "            print(\"Not quite. I won!\")\n",
    "            \n",
    "            User_Wins.append(0)\n",
    "            Computer_Wins.append(1)\n",
    "\n",
    "    print(\"Your guess: \", user_Input) \n",
    "    print(\"Dice Total: \", dice_Total)\n",
    "    \n",
    "    #Guess list iteration\n",
    "    User_Guesses.append(user_Input)\n",
    "    \n",
    "    \n",
    "    counter = counter +1\n",
    "\n",
    "#Scoreboard\n",
    "print(\"Scoreboard: \")\n",
    "print(\"Your Guesses: \", User_Guesses)\n",
    "print(\"Your Wins (by round): \", User_Wins)\n",
    "print(\"My Wins (by round): \", Computer_Wins)"
   ]
  },
  {
   "cell_type": "markdown",
   "id": "024a25d5-cb96-44be-9e7c-cb852c12f272",
   "metadata": {
    "jp-MarkdownHeadingCollapsed": true
   },
   "source": [
    "## Sample code\n",
    "Below you will find a Chat GPT generated Dice game.\n",
    "\n",
    "Lets talk about it. "
   ]
  },
  {
   "cell_type": "code",
   "execution_count": null,
   "id": "22a730ba-7ed0-4f65-8e31-fdaee97e43a3",
   "metadata": {},
   "outputs": [],
   "source": [
    "import random\n",
    "\n",
    "def roll_dice():\n",
    "    return random.randint(1, 6)\n",
    "\n",
    "def main():\n",
    "    print(\"Welcome to the Dice Rolling Game!\")\n",
    "    print(\"You and the computer will each roll a dice, and the one with the higher number wins.\")\n",
    "\n",
    "    while True:\n",
    "        input(\"Press Enter to roll the dice...\")\n",
    "        \n",
    "        user_roll = roll_dice()\n",
    "        computer_roll = roll_dice()\n",
    "\n",
    "        print(\"You rolled:\", user_roll)\n",
    "        print(\"Computer rolled:\", computer_roll)\n",
    "\n",
    "        if user_roll > computer_roll:\n",
    "            print(\"Congratulations! You win!\")\n",
    "        elif user_roll < computer_roll:\n",
    "            print(\"Sorry, you lost. Better luck next time!\")\n",
    "        else:\n",
    "            print(\"It's a tie!\")\n",
    "\n",
    "        play_again = input(\"Do you want to play again? (yes/no): \").lower()\n",
    "        if play_again != \"yes\":\n",
    "            print(\"Thanks for playing!\")\n",
    "            break\n",
    "\n",
    "if __name__ == \"__main__\":\n",
    "    main()"
   ]
  },
  {
   "cell_type": "code",
   "execution_count": null,
   "id": "31e6d976-765c-4a4a-848a-4fedaa2bf83a",
   "metadata": {},
   "outputs": [],
   "source": []
  }
 ],
 "metadata": {
  "kernelspec": {
   "display_name": "Python [conda env:base] *",
   "language": "python",
   "name": "conda-base-py"
  },
  "language_info": {
   "codemirror_mode": {
    "name": "ipython",
    "version": 3
   },
   "file_extension": ".py",
   "mimetype": "text/x-python",
   "name": "python",
   "nbconvert_exporter": "python",
   "pygments_lexer": "ipython3",
   "version": "3.12.8"
  }
 },
 "nbformat": 4,
 "nbformat_minor": 5
}
