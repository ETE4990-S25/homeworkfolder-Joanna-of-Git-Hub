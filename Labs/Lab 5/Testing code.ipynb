{
 "cells": [
  {
   "cell_type": "markdown",
   "metadata": {},
   "source": [
    "# Partner Test Code"
   ]
  },
  {
   "cell_type": "code",
   "execution_count": 27,
   "metadata": {},
   "outputs": [],
   "source": [
    "# Testing\n",
    "# SK weather function\n",
    "class Weather():\n",
    "    def weather(condition):\n",
    "        if condition == \"windy\":\n",
    "            return \"It's windy\"\n",
    "        elif condition == \"cloudy\":\n",
    "            return \"It's cloudy\"\n",
    "        elif condition == \"rainy\":\n",
    "            return \"It's raining\"\n",
    "        else:\n",
    "            return \"Sun is out\"\n",
    "\n",
    "        return \"Condition\"\n",
    "\n",
    "#SK luxury function\n",
    "def luxury(name, list):\n",
    "    \"\"\"Checks if the brand is in the list.\"\"\"\n",
    "    if name in list:\n",
    "        print(name + \" brand is in the list.\")\n",
    "    else:\n",
    "        print(name + \" brand is NOT in the list.\")"
   ]
  },
  {
   "cell_type": "code",
   "execution_count": 28,
   "metadata": {},
   "outputs": [],
   "source": [
    "import unittest"
   ]
  },
  {
   "cell_type": "code",
   "execution_count": 29,
   "metadata": {},
   "outputs": [],
   "source": [
    "class testWeather(unittest.TestCase):\n",
    "    \n",
    "    def test_windyReturnsWindy(self):\n",
    "        self.assertEqual(weather(\"windy\"),\"It's windy\")\n",
    "\n",
    "    def test_notListedConditionReturnsSunny(self):\n",
    "        self.assertEqual(weather(\"sunny\"),\"Sun is out\")"
   ]
  },
  {
   "cell_type": "code",
   "execution_count": 30,
   "metadata": {},
   "outputs": [],
   "source": [
    "class testLuxury(unittest.TestCase):\n",
    "\n",
    "    def in_list(self):\n",
    "        self.testList = luxury(\"placeholder\", [\"Gucci, Prada, Target, ANA\"])\n"
   ]
  },
  {
   "cell_type": "code",
   "execution_count": 31,
   "metadata": {},
   "outputs": [
    {
     "name": "stderr",
     "output_type": "stream",
     "text": [
      "FF\n",
      "======================================================================\n",
      "FAIL: test_notListedConditionReturnsSunny (__main__.testWeather.test_notListedConditionReturnsSunny)\n",
      "----------------------------------------------------------------------\n",
      "Traceback (most recent call last):\n",
      "  File \"C:\\Users\\joann\\AppData\\Local\\Temp\\ipykernel_7144\\2566285769.py\", line 7, in test_notListedConditionReturnsSunny\n",
      "    self.assertEqual(weather(\"sunny\"),\"Sun is out\")\n",
      "AssertionError: None != 'Sun is out'\n",
      "\n",
      "======================================================================\n",
      "FAIL: test_windyReturnsWindy (__main__.testWeather.test_windyReturnsWindy)\n",
      "----------------------------------------------------------------------\n",
      "Traceback (most recent call last):\n",
      "  File \"C:\\Users\\joann\\AppData\\Local\\Temp\\ipykernel_7144\\2566285769.py\", line 4, in test_windyReturnsWindy\n",
      "    self.assertEqual(weather(\"windy\"),\"It's windy\")\n",
      "AssertionError: None != \"It's windy\"\n",
      "\n",
      "----------------------------------------------------------------------\n",
      "Ran 2 tests in 0.003s\n",
      "\n",
      "FAILED (failures=2)\n"
     ]
    },
    {
     "name": "stdout",
     "output_type": "stream",
     "text": [
      "Sun is out\n",
      "Condition\n",
      "It's windy\n",
      "Condition\n"
     ]
    }
   ],
   "source": [
    "if __name__ == '__main__':\n",
    "    unittest.main(argv=['first-arg-is-ignored'], exit=False)"
   ]
  }
 ],
 "metadata": {
  "kernelspec": {
   "display_name": "base",
   "language": "python",
   "name": "python3"
  },
  "language_info": {
   "codemirror_mode": {
    "name": "ipython",
    "version": 3
   },
   "file_extension": ".py",
   "mimetype": "text/x-python",
   "name": "python",
   "nbconvert_exporter": "python",
   "pygments_lexer": "ipython3",
   "version": "3.12.8"
  }
 },
 "nbformat": 4,
 "nbformat_minor": 2
}
