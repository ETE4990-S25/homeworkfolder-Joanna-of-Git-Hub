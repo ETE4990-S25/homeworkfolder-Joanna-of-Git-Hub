{
 "cells": [
  {
   "cell_type": "markdown",
   "metadata": {},
   "source": [
    "# Homework #3: \n",
    "Creating and Using Python Classes with JSON\n",
    "\n",
    "## Instructions:\n",
    "### 1. Create a Python file named `data_classes.py` with the following content:\n",
    "- Define a class `Person` with attributes `name`, `age`, and `email`.\n",
    "- Define a class `Student` that inherits from `Person` and adds an attribute `student_id`.\n",
    "- Include a method to save the data of these instances into a JSON file.\n",
    "- Include a method to display the JSON content on the screen.\n",
    "\n",
    "### 2. Write a Jupyter Notebook that:\n",
    "- Imports the classes from `data_classes.py`.\n",
    "- Creates instances of `Person` and `Student`.\n",
    " - Calls the methods to save data to a JSON file and display the JSON content.\n",
    "###  Step 3: Verify the JSON file content\n",
    "This step should be done by running the display_json method in the Jupyter Notebook I expect you to use your juypeter notbook to explane any work and thought processes you had while working on your Homework. Consider your Jypyter notbook your \"Lab Report\" and the Homework is your .py file.\n"
   ]
  },
  {
   "cell_type": "markdown",
   "metadata": {},
   "source": [
    "## Joanna Escobar - Report Code"
   ]
  },
  {
   "cell_type": "code",
   "execution_count": 1,
   "metadata": {},
   "outputs": [],
   "source": [
    "#Joanna Escobar\n",
    "import json\n",
    "import data_classes"
   ]
  },
  {
   "cell_type": "code",
   "execution_count": 2,
   "metadata": {},
   "outputs": [],
   "source": [
    "Person_A = data_classes.Person(\"Person A\", 20, \"Person_A@email.website\")\n",
    "Person_B = data_classes.Student(\"Person B\", 25, \"B_Person@email.website\")\n"
   ]
  },
  {
   "cell_type": "code",
   "execution_count": 3,
   "metadata": {},
   "outputs": [
    {
     "ename": "UnboundLocalError",
     "evalue": "cannot access local variable 'counter' where it is not associated with a value",
     "output_type": "error",
     "traceback": [
      "\u001b[1;31m---------------------------------------------------------------------------\u001b[0m",
      "\u001b[1;31mUnboundLocalError\u001b[0m                         Traceback (most recent call last)",
      "Cell \u001b[1;32mIn[3], line 1\u001b[0m\n\u001b[1;32m----> 1\u001b[0m Person_A\u001b[38;5;241m.\u001b[39msave_file()\n\u001b[0;32m      2\u001b[0m Person_A\u001b[38;5;241m.\u001b[39mshow_file()\n",
      "File \u001b[1;32mc:\\Users\\joann\\OneDrive\\Desktop\\homeworkfolder-Joanna-of-Git-Hub\\Homework\\Homework 3\\data_classes.py:25\u001b[0m, in \u001b[0;36mPerson.save_file\u001b[1;34m(self)\u001b[0m\n\u001b[0;32m     23\u001b[0m \u001b[38;5;28;01mdef\u001b[39;00m \u001b[38;5;21msave_file\u001b[39m(\u001b[38;5;28mself\u001b[39m):\n\u001b[0;32m     24\u001b[0m \u001b[38;5;250m    \u001b[39m\u001b[38;5;124;03m\"\"\"Take info from Person and put in json file.\"\"\"\u001b[39;00m     \n\u001b[1;32m---> 25\u001b[0m     counter\u001b[38;5;241m+\u001b[39m\u001b[38;5;241m=\u001b[39m\u001b[38;5;241m1\u001b[39m\n\u001b[0;32m     27\u001b[0m     \u001b[38;5;66;03m#json file management\u001b[39;00m\n\u001b[0;32m     28\u001b[0m     \u001b[38;5;28;01mif\u001b[39;00m (counter\u001b[38;5;241m==\u001b[39m\u001b[38;5;241m0\u001b[39m):\n\u001b[0;32m     29\u001b[0m         \u001b[38;5;66;03m#creates new json file\u001b[39;00m\n",
      "\u001b[1;31mUnboundLocalError\u001b[0m: cannot access local variable 'counter' where it is not associated with a value"
     ]
    }
   ],
   "source": [
    "Person_A.save_file()\n",
    "Person_A.show_file()"
   ]
  },
  {
   "cell_type": "code",
   "execution_count": 4,
   "metadata": {},
   "outputs": [
    {
     "name": "stdout",
     "output_type": "stream",
     "text": [
      "{'name': 'Person B', 'age': 25, 'email': 'B_Person@email.website', 'student id': '4444'}\n"
     ]
    }
   ],
   "source": [
    "Person_B.save_file()\n",
    "Person_B.show_file()"
   ]
  },
  {
   "cell_type": "code",
   "execution_count": 5,
   "metadata": {},
   "outputs": [
    {
     "ename": "AttributeError",
     "evalue": "module 'json' has no attribute 'display_json'",
     "output_type": "error",
     "traceback": [
      "\u001b[1;31m---------------------------------------------------------------------------\u001b[0m",
      "\u001b[1;31mAttributeError\u001b[0m                            Traceback (most recent call last)",
      "Cell \u001b[1;32mIn[5], line 1\u001b[0m\n\u001b[1;32m----> 1\u001b[0m json\u001b[38;5;241m.\u001b[39mdisplay_json(Person\u001b[38;5;241m.\u001b[39mfilename)\n",
      "\u001b[1;31mAttributeError\u001b[0m: module 'json' has no attribute 'display_json'"
     ]
    }
   ],
   "source": [
    "json.display_json(Person.filename)"
   ]
  }
 ],
 "metadata": {
  "kernelspec": {
   "display_name": "base",
   "language": "python",
   "name": "python3"
  },
  "language_info": {
   "codemirror_mode": {
    "name": "ipython",
    "version": 3
   },
   "file_extension": ".py",
   "mimetype": "text/x-python",
   "name": "python",
   "nbconvert_exporter": "python",
   "pygments_lexer": "ipython3",
   "version": "3.12.8"
  }
 },
 "nbformat": 4,
 "nbformat_minor": 2
}
